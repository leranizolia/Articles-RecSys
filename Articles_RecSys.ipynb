{
  "nbformat": 4,
  "nbformat_minor": 0,
  "metadata": {
    "colab": {
      "name": "Articles RecSys.ipynb",
      "provenance": [],
      "collapsed_sections": [],
      "machine_shape": "hm"
    },
    "kernelspec": {
      "name": "python3",
      "display_name": "Python 3"
    },
    "widgets": {
      "application/vnd.jupyter.widget-state+json": {
        "2f2b740329ca428ba47b5c58c92a3ccb": {
          "model_module": "@jupyter-widgets/controls",
          "model_name": "HBoxModel",
          "state": {
            "_view_name": "HBoxView",
            "_dom_classes": [],
            "_model_name": "HBoxModel",
            "_view_module": "@jupyter-widgets/controls",
            "_model_module_version": "1.5.0",
            "_view_count": null,
            "_view_module_version": "1.5.0",
            "box_style": "",
            "layout": "IPY_MODEL_687ca38bba4642f191e166ea75df8d1a",
            "_model_module": "@jupyter-widgets/controls",
            "children": [
              "IPY_MODEL_c0e72688c2e04063b919599802eb84f6",
              "IPY_MODEL_f4625f17b6d54ef889a7efb8db2f80c3"
            ]
          }
        },
        "687ca38bba4642f191e166ea75df8d1a": {
          "model_module": "@jupyter-widgets/base",
          "model_name": "LayoutModel",
          "state": {
            "_view_name": "LayoutView",
            "grid_template_rows": null,
            "right": null,
            "justify_content": null,
            "_view_module": "@jupyter-widgets/base",
            "overflow": null,
            "_model_module_version": "1.2.0",
            "_view_count": null,
            "flex_flow": null,
            "width": null,
            "min_width": null,
            "border": null,
            "align_items": null,
            "bottom": null,
            "_model_module": "@jupyter-widgets/base",
            "top": null,
            "grid_column": null,
            "overflow_y": null,
            "overflow_x": null,
            "grid_auto_flow": null,
            "grid_area": null,
            "grid_template_columns": null,
            "flex": null,
            "_model_name": "LayoutModel",
            "justify_items": null,
            "grid_row": null,
            "max_height": null,
            "align_content": null,
            "visibility": null,
            "align_self": null,
            "height": null,
            "min_height": null,
            "padding": null,
            "grid_auto_rows": null,
            "grid_gap": null,
            "max_width": null,
            "order": null,
            "_view_module_version": "1.2.0",
            "grid_template_areas": null,
            "object_position": null,
            "object_fit": null,
            "grid_auto_columns": null,
            "margin": null,
            "display": null,
            "left": null
          }
        },
        "c0e72688c2e04063b919599802eb84f6": {
          "model_module": "@jupyter-widgets/controls",
          "model_name": "IntProgressModel",
          "state": {
            "_view_name": "ProgressView",
            "style": "IPY_MODEL_727637cf866746918e91e28e5f04319d",
            "_dom_classes": [],
            "description": "",
            "_model_name": "IntProgressModel",
            "bar_style": "success",
            "max": 1,
            "_view_module": "@jupyter-widgets/controls",
            "_model_module_version": "1.5.0",
            "value": 1,
            "_view_count": null,
            "_view_module_version": "1.5.0",
            "orientation": "horizontal",
            "min": 0,
            "description_tooltip": null,
            "_model_module": "@jupyter-widgets/controls",
            "layout": "IPY_MODEL_65d522c2c4df461688011d5883bfbd55"
          }
        },
        "f4625f17b6d54ef889a7efb8db2f80c3": {
          "model_module": "@jupyter-widgets/controls",
          "model_name": "HTMLModel",
          "state": {
            "_view_name": "HTMLView",
            "style": "IPY_MODEL_77707edcf3a54afd8b26f2cf5c1f885e",
            "_dom_classes": [],
            "description": "",
            "_model_name": "HTMLModel",
            "placeholder": "​",
            "_view_module": "@jupyter-widgets/controls",
            "_model_module_version": "1.5.0",
            "value": "328050it [00:16, 19431.70it/s]",
            "_view_count": null,
            "_view_module_version": "1.5.0",
            "description_tooltip": null,
            "_model_module": "@jupyter-widgets/controls",
            "layout": "IPY_MODEL_145e179859e64d47b87104342852a880"
          }
        },
        "727637cf866746918e91e28e5f04319d": {
          "model_module": "@jupyter-widgets/controls",
          "model_name": "ProgressStyleModel",
          "state": {
            "_view_name": "StyleView",
            "_model_name": "ProgressStyleModel",
            "description_width": "",
            "_view_module": "@jupyter-widgets/base",
            "_model_module_version": "1.5.0",
            "_view_count": null,
            "_view_module_version": "1.2.0",
            "bar_color": null,
            "_model_module": "@jupyter-widgets/controls"
          }
        },
        "65d522c2c4df461688011d5883bfbd55": {
          "model_module": "@jupyter-widgets/base",
          "model_name": "LayoutModel",
          "state": {
            "_view_name": "LayoutView",
            "grid_template_rows": null,
            "right": null,
            "justify_content": null,
            "_view_module": "@jupyter-widgets/base",
            "overflow": null,
            "_model_module_version": "1.2.0",
            "_view_count": null,
            "flex_flow": null,
            "width": null,
            "min_width": null,
            "border": null,
            "align_items": null,
            "bottom": null,
            "_model_module": "@jupyter-widgets/base",
            "top": null,
            "grid_column": null,
            "overflow_y": null,
            "overflow_x": null,
            "grid_auto_flow": null,
            "grid_area": null,
            "grid_template_columns": null,
            "flex": null,
            "_model_name": "LayoutModel",
            "justify_items": null,
            "grid_row": null,
            "max_height": null,
            "align_content": null,
            "visibility": null,
            "align_self": null,
            "height": null,
            "min_height": null,
            "padding": null,
            "grid_auto_rows": null,
            "grid_gap": null,
            "max_width": null,
            "order": null,
            "_view_module_version": "1.2.0",
            "grid_template_areas": null,
            "object_position": null,
            "object_fit": null,
            "grid_auto_columns": null,
            "margin": null,
            "display": null,
            "left": null
          }
        },
        "77707edcf3a54afd8b26f2cf5c1f885e": {
          "model_module": "@jupyter-widgets/controls",
          "model_name": "DescriptionStyleModel",
          "state": {
            "_view_name": "StyleView",
            "_model_name": "DescriptionStyleModel",
            "description_width": "",
            "_view_module": "@jupyter-widgets/base",
            "_model_module_version": "1.5.0",
            "_view_count": null,
            "_view_module_version": "1.2.0",
            "_model_module": "@jupyter-widgets/controls"
          }
        },
        "145e179859e64d47b87104342852a880": {
          "model_module": "@jupyter-widgets/base",
          "model_name": "LayoutModel",
          "state": {
            "_view_name": "LayoutView",
            "grid_template_rows": null,
            "right": null,
            "justify_content": null,
            "_view_module": "@jupyter-widgets/base",
            "overflow": null,
            "_model_module_version": "1.2.0",
            "_view_count": null,
            "flex_flow": null,
            "width": null,
            "min_width": null,
            "border": null,
            "align_items": null,
            "bottom": null,
            "_model_module": "@jupyter-widgets/base",
            "top": null,
            "grid_column": null,
            "overflow_y": null,
            "overflow_x": null,
            "grid_auto_flow": null,
            "grid_area": null,
            "grid_template_columns": null,
            "flex": null,
            "_model_name": "LayoutModel",
            "justify_items": null,
            "grid_row": null,
            "max_height": null,
            "align_content": null,
            "visibility": null,
            "align_self": null,
            "height": null,
            "min_height": null,
            "padding": null,
            "grid_auto_rows": null,
            "grid_gap": null,
            "max_width": null,
            "order": null,
            "_view_module_version": "1.2.0",
            "grid_template_areas": null,
            "object_position": null,
            "object_fit": null,
            "grid_auto_columns": null,
            "margin": null,
            "display": null,
            "left": null
          }
        },
        "41270ace7a92496faf28b4829191d182": {
          "model_module": "@jupyter-widgets/controls",
          "model_name": "HBoxModel",
          "state": {
            "_view_name": "HBoxView",
            "_dom_classes": [],
            "_model_name": "HBoxModel",
            "_view_module": "@jupyter-widgets/controls",
            "_model_module_version": "1.5.0",
            "_view_count": null,
            "_view_module_version": "1.5.0",
            "box_style": "",
            "layout": "IPY_MODEL_b8080d3f54e341778aef1c440c22d254",
            "_model_module": "@jupyter-widgets/controls",
            "children": [
              "IPY_MODEL_e2c2903f9611412eab86b15ce6ef4de8",
              "IPY_MODEL_4821bd15d894497989a572b74305dd0c"
            ]
          }
        },
        "b8080d3f54e341778aef1c440c22d254": {
          "model_module": "@jupyter-widgets/base",
          "model_name": "LayoutModel",
          "state": {
            "_view_name": "LayoutView",
            "grid_template_rows": null,
            "right": null,
            "justify_content": null,
            "_view_module": "@jupyter-widgets/base",
            "overflow": null,
            "_model_module_version": "1.2.0",
            "_view_count": null,
            "flex_flow": null,
            "width": null,
            "min_width": null,
            "border": null,
            "align_items": null,
            "bottom": null,
            "_model_module": "@jupyter-widgets/base",
            "top": null,
            "grid_column": null,
            "overflow_y": null,
            "overflow_x": null,
            "grid_auto_flow": null,
            "grid_area": null,
            "grid_template_columns": null,
            "flex": null,
            "_model_name": "LayoutModel",
            "justify_items": null,
            "grid_row": null,
            "max_height": null,
            "align_content": null,
            "visibility": null,
            "align_self": null,
            "height": null,
            "min_height": null,
            "padding": null,
            "grid_auto_rows": null,
            "grid_gap": null,
            "max_width": null,
            "order": null,
            "_view_module_version": "1.2.0",
            "grid_template_areas": null,
            "object_position": null,
            "object_fit": null,
            "grid_auto_columns": null,
            "margin": null,
            "display": null,
            "left": null
          }
        },
        "e2c2903f9611412eab86b15ce6ef4de8": {
          "model_module": "@jupyter-widgets/controls",
          "model_name": "IntProgressModel",
          "state": {
            "_view_name": "ProgressView",
            "style": "IPY_MODEL_c7dfda1cb2704b42b8c7735d51e8eba0",
            "_dom_classes": [],
            "description": "",
            "_model_name": "IntProgressModel",
            "bar_style": "success",
            "max": 1,
            "_view_module": "@jupyter-widgets/controls",
            "_model_module_version": "1.5.0",
            "value": 1,
            "_view_count": null,
            "_view_module_version": "1.5.0",
            "orientation": "horizontal",
            "min": 0,
            "description_tooltip": null,
            "_model_module": "@jupyter-widgets/controls",
            "layout": "IPY_MODEL_c9d8415bbfd74b079ba5df8351364637"
          }
        },
        "4821bd15d894497989a572b74305dd0c": {
          "model_module": "@jupyter-widgets/controls",
          "model_name": "HTMLModel",
          "state": {
            "_view_name": "HTMLView",
            "style": "IPY_MODEL_8446f49f216e4bb58d7b2d827ca46c4c",
            "_dom_classes": [],
            "description": "",
            "_model_name": "HTMLModel",
            "placeholder": "​",
            "_view_module": "@jupyter-widgets/controls",
            "_model_module_version": "1.5.0",
            "value": "42977it [00:57, 750.92it/s]",
            "_view_count": null,
            "_view_module_version": "1.5.0",
            "description_tooltip": null,
            "_model_module": "@jupyter-widgets/controls",
            "layout": "IPY_MODEL_3d68fd8d1f254481b084d5113776df55"
          }
        },
        "c7dfda1cb2704b42b8c7735d51e8eba0": {
          "model_module": "@jupyter-widgets/controls",
          "model_name": "ProgressStyleModel",
          "state": {
            "_view_name": "StyleView",
            "_model_name": "ProgressStyleModel",
            "description_width": "",
            "_view_module": "@jupyter-widgets/base",
            "_model_module_version": "1.5.0",
            "_view_count": null,
            "_view_module_version": "1.2.0",
            "bar_color": null,
            "_model_module": "@jupyter-widgets/controls"
          }
        },
        "c9d8415bbfd74b079ba5df8351364637": {
          "model_module": "@jupyter-widgets/base",
          "model_name": "LayoutModel",
          "state": {
            "_view_name": "LayoutView",
            "grid_template_rows": null,
            "right": null,
            "justify_content": null,
            "_view_module": "@jupyter-widgets/base",
            "overflow": null,
            "_model_module_version": "1.2.0",
            "_view_count": null,
            "flex_flow": null,
            "width": null,
            "min_width": null,
            "border": null,
            "align_items": null,
            "bottom": null,
            "_model_module": "@jupyter-widgets/base",
            "top": null,
            "grid_column": null,
            "overflow_y": null,
            "overflow_x": null,
            "grid_auto_flow": null,
            "grid_area": null,
            "grid_template_columns": null,
            "flex": null,
            "_model_name": "LayoutModel",
            "justify_items": null,
            "grid_row": null,
            "max_height": null,
            "align_content": null,
            "visibility": null,
            "align_self": null,
            "height": null,
            "min_height": null,
            "padding": null,
            "grid_auto_rows": null,
            "grid_gap": null,
            "max_width": null,
            "order": null,
            "_view_module_version": "1.2.0",
            "grid_template_areas": null,
            "object_position": null,
            "object_fit": null,
            "grid_auto_columns": null,
            "margin": null,
            "display": null,
            "left": null
          }
        },
        "8446f49f216e4bb58d7b2d827ca46c4c": {
          "model_module": "@jupyter-widgets/controls",
          "model_name": "DescriptionStyleModel",
          "state": {
            "_view_name": "StyleView",
            "_model_name": "DescriptionStyleModel",
            "description_width": "",
            "_view_module": "@jupyter-widgets/base",
            "_model_module_version": "1.5.0",
            "_view_count": null,
            "_view_module_version": "1.2.0",
            "_model_module": "@jupyter-widgets/controls"
          }
        },
        "3d68fd8d1f254481b084d5113776df55": {
          "model_module": "@jupyter-widgets/base",
          "model_name": "LayoutModel",
          "state": {
            "_view_name": "LayoutView",
            "grid_template_rows": null,
            "right": null,
            "justify_content": null,
            "_view_module": "@jupyter-widgets/base",
            "overflow": null,
            "_model_module_version": "1.2.0",
            "_view_count": null,
            "flex_flow": null,
            "width": null,
            "min_width": null,
            "border": null,
            "align_items": null,
            "bottom": null,
            "_model_module": "@jupyter-widgets/base",
            "top": null,
            "grid_column": null,
            "overflow_y": null,
            "overflow_x": null,
            "grid_auto_flow": null,
            "grid_area": null,
            "grid_template_columns": null,
            "flex": null,
            "_model_name": "LayoutModel",
            "justify_items": null,
            "grid_row": null,
            "max_height": null,
            "align_content": null,
            "visibility": null,
            "align_self": null,
            "height": null,
            "min_height": null,
            "padding": null,
            "grid_auto_rows": null,
            "grid_gap": null,
            "max_width": null,
            "order": null,
            "_view_module_version": "1.2.0",
            "grid_template_areas": null,
            "object_position": null,
            "object_fit": null,
            "grid_auto_columns": null,
            "margin": null,
            "display": null,
            "left": null
          }
        }
      }
    }
  },
  "cells": [
    {
      "cell_type": "code",
      "metadata": {
        "id": "5MAFqlX86_FC",
        "colab": {
          "base_uri": "https://localhost:8080/",
          "height": 83
        },
        "outputId": "abc214d0-74df-4c68-e022-2812b7c2894e"
      },
      "source": [
        "#импортируем данные с кэггла\n",
        "import os\n",
        "os.environ[\"KAGGLE_USERNAME\"]=\"valeriianizolia\"\n",
        "os.environ['KAGGLE_KEY']='e537e2cce6a8da8f46f229a6f86662d9'\n",
        "!kaggle competitions download -c recsys-iad-challenge"
      ],
      "execution_count": null,
      "outputs": [
        {
          "output_type": "stream",
          "text": [
            "Warning: Looks like you're using an outdated API Version, please consider updating (server 1.5.6 / client 1.5.4)\n",
            "items.json.zip: Skipping, found more recently modified local copy (use --force to force download)\n",
            "random_benchmark.csv.zip: Skipping, found more recently modified local copy (use --force to force download)\n",
            "train.json.zip: Skipping, found more recently modified local copy (use --force to force download)\n"
          ],
          "name": "stdout"
        }
      ]
    },
    {
      "cell_type": "code",
      "metadata": {
        "id": "L7sKeDRZ74Gn"
      },
      "source": [
        "import numpy as np\n",
        "import pandas as pd\n",
        "import zipfile \n",
        "import string\n",
        "import yaml\n",
        "import ast\n",
        "import json\n",
        "from scipy.sparse import coo_matrix\n",
        "from tqdm.auto import tqdm"
      ],
      "execution_count": null,
      "outputs": []
    },
    {
      "cell_type": "code",
      "metadata": {
        "id": "9T7La2338Ogo",
        "colab": {
          "base_uri": "https://localhost:8080/",
          "height": 183
        },
        "outputId": "10781986-997d-45fe-911e-64cf4ab4250a"
      },
      "source": [
        "!unzip \\*.zip"
      ],
      "execution_count": null,
      "outputs": [
        {
          "output_type": "stream",
          "text": [
            "Archive:  items.json.zip\n",
            "  inflating: items.json              \n",
            "\n",
            "Archive:  random_benchmark.csv.zip\n",
            "  inflating: random_benchmark.csv    \n",
            "\n",
            "Archive:  train.json.zip\n",
            "  inflating: train.json              \n",
            "\n",
            "3 archives were successfully processed.\n"
          ],
          "name": "stdout"
        }
      ]
    },
    {
      "cell_type": "code",
      "metadata": {
        "id": "TKVDgJfgMCVi",
        "colab": {
          "base_uri": "https://localhost:8080/",
          "height": 99,
          "referenced_widgets": [
            "2f2b740329ca428ba47b5c58c92a3ccb",
            "687ca38bba4642f191e166ea75df8d1a",
            "c0e72688c2e04063b919599802eb84f6",
            "f4625f17b6d54ef889a7efb8db2f80c3",
            "727637cf866746918e91e28e5f04319d",
            "65d522c2c4df461688011d5883bfbd55",
            "77707edcf3a54afd8b26f2cf5c1f885e",
            "145e179859e64d47b87104342852a880"
          ]
        },
        "outputId": "71e6c525-dbe0-4e1c-d5ea-34175c0c96ba"
      },
      "source": [
        "%%time\n",
        "#распаковка айтемс\n",
        "items_list=[]\n",
        "titles=[]\n",
        "images=[]\n",
        "content=[]\n",
        "with tqdm(open('items.json')) as inf:\n",
        "    for line in inf:\n",
        "        item=json.loads(line)\n",
        "        if isinstance(item['image'], float):\n",
        "            item['image']=[0 for _ in range(96)]\n",
        "            \n",
        "        item['image']=np.array(item['image'])\n",
        "        #del item['content']\n",
        "        items_list.append(item)\n",
        "        titles.append(item['title'])\n",
        "        images.append(item['image'])\n",
        "        content.append(item['content'])\n",
        "\n",
        "items=pd.DataFrame(items_list).set_index('itemId')"
      ],
      "execution_count": null,
      "outputs": [
        {
          "output_type": "display_data",
          "data": {
            "application/vnd.jupyter.widget-view+json": {
              "model_id": "2f2b740329ca428ba47b5c58c92a3ccb",
              "version_minor": 0,
              "version_major": 2
            },
            "text/plain": [
              "HBox(children=(IntProgress(value=1, bar_style='info', max=1), HTML(value='')))"
            ]
          },
          "metadata": {
            "tags": []
          }
        },
        {
          "output_type": "stream",
          "text": [
            "\n",
            "CPU times: user 15.6 s, sys: 2.37 s, total: 17.9 s\n",
            "Wall time: 17.5 s\n"
          ],
          "name": "stdout"
        }
      ]
    },
    {
      "cell_type": "code",
      "metadata": {
        "id": "RSyjl3b5TaIQ"
      },
      "source": [
        "from sklearn.feature_extraction.text import TfidfVectorizer"
      ],
      "execution_count": null,
      "outputs": []
    },
    {
      "cell_type": "code",
      "metadata": {
        "id": "0C87rl_pTcAM"
      },
      "source": [
        "vectorizer = TfidfVectorizer(lowercase=False, min_df = 10, max_df = 0.01)\n",
        "tfidf_titles = vectorizer.fit_transform(titles)\n",
        "tfidf_content = vectorizer.fit_transform(content)"
      ],
      "execution_count": null,
      "outputs": []
    },
    {
      "cell_type": "code",
      "metadata": {
        "id": "0O-hF9O2TyNB",
        "colab": {
          "base_uri": "https://localhost:8080/",
          "height": 50
        },
        "outputId": "5a07ae6e-aa40-43d1-e165-467cf6686290"
      },
      "source": [
        "tfidf_titles"
      ],
      "execution_count": null,
      "outputs": [
        {
          "output_type": "execute_result",
          "data": {
            "text/plain": [
              "<328050x29762 sparse matrix of type '<class 'numpy.float64'>'\n",
              "\twith 1641340 stored elements in Compressed Sparse Row format>"
            ]
          },
          "metadata": {
            "tags": []
          },
          "execution_count": 12
        }
      ]
    },
    {
      "cell_type": "code",
      "metadata": {
        "id": "ZvpG_elNbJ5Z",
        "colab": {
          "base_uri": "https://localhost:8080/",
          "height": 50
        },
        "outputId": "6087f72c-6448-4e32-e393-e08d10c1a6d3"
      },
      "source": [
        "tfidf_content"
      ],
      "execution_count": null,
      "outputs": [
        {
          "output_type": "execute_result",
          "data": {
            "text/plain": [
              "<328050x239705 sparse matrix of type '<class 'numpy.float64'>'\n",
              "\twith 27815164 stored elements in Compressed Sparse Row format>"
            ]
          },
          "metadata": {
            "tags": []
          },
          "execution_count": 13
        }
      ]
    },
    {
      "cell_type": "code",
      "metadata": {
        "id": "MUfGjRG7bOMM"
      },
      "source": [
        "from scipy.sparse import hstack\n",
        "item_features = hstack([tfidf_content, tfidf_titles])"
      ],
      "execution_count": null,
      "outputs": []
    },
    {
      "cell_type": "code",
      "metadata": {
        "id": "L5mbXY8w8I3I"
      },
      "source": [
        "#модель с картинками обучается очень долго, а изменение в качестве незначительное\n",
        "#from scipy.sparse import *\n",
        "#from scipy import *\n",
        "#images = csr_matrix(np.array(images))"
      ],
      "execution_count": null,
      "outputs": []
    },
    {
      "cell_type": "code",
      "metadata": {
        "id": "xr7kA-tQ8ZDV"
      },
      "source": [
        "#from scipy.sparse import hstack\n",
        "#item_features = hstack([tfidf_titles, images])"
      ],
      "execution_count": null,
      "outputs": []
    },
    {
      "cell_type": "code",
      "metadata": {
        "id": "wOruPkRTr9Jd",
        "colab": {
          "base_uri": "https://localhost:8080/",
          "height": 99,
          "referenced_widgets": [
            "41270ace7a92496faf28b4829191d182",
            "b8080d3f54e341778aef1c440c22d254",
            "e2c2903f9611412eab86b15ce6ef4de8",
            "4821bd15d894497989a572b74305dd0c",
            "c7dfda1cb2704b42b8c7735d51e8eba0",
            "c9d8415bbfd74b079ba5df8351364637",
            "8446f49f216e4bb58d7b2d827ca46c4c",
            "3d68fd8d1f254481b084d5113776df55"
          ]
        },
        "outputId": "992c1346-fbff-4e04-f78d-da7a0eb9f506"
      },
      "source": [
        "%%time\n",
        "#распаковка train\n",
        "user_list=[]\n",
        "item_list=[]\n",
        "target_list=[]\n",
        "a=0\n",
        "with tqdm(open('train.json')) as inf:\n",
        "    for line in inf:\n",
        "      a+=1\n",
        "      train=json.loads(line)\n",
        "      for key in train['trainRatings'].keys():\n",
        "        item_list.append(key)\n",
        "      for val in train['trainRatings'].values():\n",
        "        target_list.append(val)\n",
        "      for i in range(len(train['trainRatings'].keys())):\n",
        "        user_list.append(train['userId'])"
      ],
      "execution_count": null,
      "outputs": [
        {
          "output_type": "display_data",
          "data": {
            "application/vnd.jupyter.widget-view+json": {
              "model_id": "41270ace7a92496faf28b4829191d182",
              "version_minor": 0,
              "version_major": 2
            },
            "text/plain": [
              "HBox(children=(IntProgress(value=1, bar_style='info', max=1), HTML(value='')))"
            ]
          },
          "metadata": {
            "tags": []
          }
        },
        {
          "output_type": "stream",
          "text": [
            "\n",
            "CPU times: user 46.1 s, sys: 11 s, total: 57.1 s\n",
            "Wall time: 57.2 s\n"
          ],
          "name": "stdout"
        }
      ]
    },
    {
      "cell_type": "code",
      "metadata": {
        "id": "RXa_Usd2wU3K"
      },
      "source": [
        "#создадим спарс матрицу для более компактного хранения данных\n",
        "row = np.array(user_list).astype(int)\n",
        "col = np.array(item_list).astype(int)\n",
        "data = np.array(target_list).astype(int)\n",
        "coo = coo_matrix((data, (row, col)), shape=(a, len(items_list)))"
      ],
      "execution_count": null,
      "outputs": []
    },
    {
      "cell_type": "code",
      "metadata": {
        "id": "4FBiQT_7f-B9",
        "colab": {
          "base_uri": "https://localhost:8080/",
          "height": 320
        },
        "outputId": "f5f0ba89-c0f4-475d-d99b-3b2f02392ccb"
      },
      "source": [
        "!pip install lightfm"
      ],
      "execution_count": null,
      "outputs": [
        {
          "output_type": "stream",
          "text": [
            "Collecting lightfm\n",
            "\u001b[?25l  Downloading https://files.pythonhosted.org/packages/e9/8e/5485ac5a8616abe1c673d1e033e2f232b4319ab95424b42499fabff2257f/lightfm-1.15.tar.gz (302kB)\n",
            "\r\u001b[K     |█                               | 10kB 17.8MB/s eta 0:00:01\r\u001b[K     |██▏                             | 20kB 1.7MB/s eta 0:00:01\r\u001b[K     |███▎                            | 30kB 2.5MB/s eta 0:00:01\r\u001b[K     |████▍                           | 40kB 1.7MB/s eta 0:00:01\r\u001b[K     |█████▍                          | 51kB 2.1MB/s eta 0:00:01\r\u001b[K     |██████▌                         | 61kB 2.5MB/s eta 0:00:01\r\u001b[K     |███████▋                        | 71kB 2.9MB/s eta 0:00:01\r\u001b[K     |████████▊                       | 81kB 3.3MB/s eta 0:00:01\r\u001b[K     |█████████▊                      | 92kB 3.7MB/s eta 0:00:01\r\u001b[K     |██████████▉                     | 102kB 2.8MB/s eta 0:00:01\r\u001b[K     |████████████                    | 112kB 2.8MB/s eta 0:00:01\r\u001b[K     |█████████████                   | 122kB 2.8MB/s eta 0:00:01\r\u001b[K     |██████████████                  | 133kB 2.8MB/s eta 0:00:01\r\u001b[K     |███████████████▏                | 143kB 2.8MB/s eta 0:00:01\r\u001b[K     |████████████████▎               | 153kB 2.8MB/s eta 0:00:01\r\u001b[K     |█████████████████▍              | 163kB 2.8MB/s eta 0:00:01\r\u001b[K     |██████████████████▍             | 174kB 2.8MB/s eta 0:00:01\r\u001b[K     |███████████████████▌            | 184kB 2.8MB/s eta 0:00:01\r\u001b[K     |████████████████████▋           | 194kB 2.8MB/s eta 0:00:01\r\u001b[K     |█████████████████████▊          | 204kB 2.8MB/s eta 0:00:01\r\u001b[K     |██████████████████████▊         | 215kB 2.8MB/s eta 0:00:01\r\u001b[K     |███████████████████████▉        | 225kB 2.8MB/s eta 0:00:01\r\u001b[K     |█████████████████████████       | 235kB 2.8MB/s eta 0:00:01\r\u001b[K     |██████████████████████████      | 245kB 2.8MB/s eta 0:00:01\r\u001b[K     |███████████████████████████     | 256kB 2.8MB/s eta 0:00:01\r\u001b[K     |████████████████████████████▏   | 266kB 2.8MB/s eta 0:00:01\r\u001b[K     |█████████████████████████████▎  | 276kB 2.8MB/s eta 0:00:01\r\u001b[K     |██████████████████████████████▍ | 286kB 2.8MB/s eta 0:00:01\r\u001b[K     |███████████████████████████████▍| 296kB 2.8MB/s eta 0:00:01\r\u001b[K     |████████████████████████████████| 307kB 2.8MB/s \n",
            "\u001b[?25hRequirement already satisfied: numpy in /usr/local/lib/python3.6/dist-packages (from lightfm) (1.17.5)\n",
            "Requirement already satisfied: scipy>=0.17.0 in /usr/local/lib/python3.6/dist-packages (from lightfm) (1.4.1)\n",
            "Requirement already satisfied: requests in /usr/local/lib/python3.6/dist-packages (from lightfm) (2.21.0)\n",
            "Requirement already satisfied: certifi>=2017.4.17 in /usr/local/lib/python3.6/dist-packages (from requests->lightfm) (2019.11.28)\n",
            "Requirement already satisfied: urllib3<1.25,>=1.21.1 in /usr/local/lib/python3.6/dist-packages (from requests->lightfm) (1.24.3)\n",
            "Requirement already satisfied: chardet<3.1.0,>=3.0.2 in /usr/local/lib/python3.6/dist-packages (from requests->lightfm) (3.0.4)\n",
            "Requirement already satisfied: idna<2.9,>=2.5 in /usr/local/lib/python3.6/dist-packages (from requests->lightfm) (2.8)\n",
            "Building wheels for collected packages: lightfm\n",
            "  Building wheel for lightfm (setup.py) ... \u001b[?25l\u001b[?25hdone\n",
            "  Created wheel for lightfm: filename=lightfm-1.15-cp36-cp36m-linux_x86_64.whl size=707608 sha256=6dc6a01600a7e029e50823f9760c2d674ebbd662568ee48ee0a095328ff71e96\n",
            "  Stored in directory: /root/.cache/pip/wheels/eb/bb/ac/188385a5da6627956be5d9663928483b36da576149ab5b8f79\n",
            "Successfully built lightfm\n",
            "Installing collected packages: lightfm\n",
            "Successfully installed lightfm-1.15\n"
          ],
          "name": "stdout"
        }
      ]
    },
    {
      "cell_type": "code",
      "metadata": {
        "id": "yAs-HwNfgGb8"
      },
      "source": [
        "from lightfm import LightFM\n",
        "\n",
        "model = LightFM(loss='bpr', no_components=30)"
      ],
      "execution_count": null,
      "outputs": []
    },
    {
      "cell_type": "code",
      "metadata": {
        "id": "ube7GwlvgWen",
        "colab": {
          "base_uri": "https://localhost:8080/",
          "height": 483
        },
        "outputId": "a6fd5526-297d-47d2-ff50-111edaa53c13"
      },
      "source": [
        "%%time\n",
        "model.fit(coo, num_threads=4, epochs = 100, verbose = True, item_features=item_features)"
      ],
      "execution_count": null,
      "outputs": [
        {
          "output_type": "stream",
          "text": [
            "Epoch 0\n",
            "Epoch 1\n",
            "Epoch 2\n",
            "Epoch 3\n",
            "Epoch 4\n",
            "Epoch 5\n",
            "Epoch 6\n",
            "Epoch 7\n",
            "Epoch 8\n",
            "Epoch 9\n",
            "Epoch 10\n",
            "Epoch 11\n",
            "Epoch 12\n",
            "Epoch 13\n",
            "Epoch 14\n",
            "Epoch 15\n",
            "Epoch 16\n",
            "Epoch 17\n",
            "Epoch 18\n",
            "Epoch 19\n",
            "Epoch 20\n",
            "Epoch 21\n",
            "Epoch 22\n",
            "Epoch 23\n",
            "Epoch 24\n",
            "CPU times: user 7h 8min 31s, sys: 3.18 s, total: 7h 8min 34s\n",
            "Wall time: 1h 51min 22s\n"
          ],
          "name": "stdout"
        },
        {
          "output_type": "execute_result",
          "data": {
            "text/plain": [
              "<lightfm.lightfm.LightFM at 0x7f2b5b7e6da0>"
            ]
          },
          "metadata": {
            "tags": []
          },
          "execution_count": 22
        }
      ]
    },
    {
      "cell_type": "code",
      "metadata": {
        "id": "qlyEMdw6itWE"
      },
      "source": [
        "random_benchmark = pd.read_csv(\"random_benchmark.csv\")"
      ],
      "execution_count": null,
      "outputs": []
    },
    {
      "cell_type": "code",
      "metadata": {
        "id": "s-1-yJynjzeH"
      },
      "source": [
        "user_test = random_benchmark[\"userId\"].values\n",
        "item_test = random_benchmark['itemId'].values"
      ],
      "execution_count": null,
      "outputs": []
    },
    {
      "cell_type": "code",
      "metadata": {
        "id": "yCXoFON9hJYr"
      },
      "source": [
        "predictions = model.predict(user_test, item_test, num_threads=10, item_features=item_features)"
      ],
      "execution_count": null,
      "outputs": []
    },
    {
      "cell_type": "code",
      "metadata": {
        "id": "Cgw5mfZmsddU",
        "colab": {
          "base_uri": "https://localhost:8080/",
          "height": 407
        },
        "outputId": "db83bc8f-63ff-4f19-e51a-415f30bf802e"
      },
      "source": [
        "random_benchmark['predictions'] = predictions\n",
        "random_benchmark"
      ],
      "execution_count": null,
      "outputs": [
        {
          "output_type": "execute_result",
          "data": {
            "text/html": [
              "<div>\n",
              "<style scoped>\n",
              "    .dataframe tbody tr th:only-of-type {\n",
              "        vertical-align: middle;\n",
              "    }\n",
              "\n",
              "    .dataframe tbody tr th {\n",
              "        vertical-align: top;\n",
              "    }\n",
              "\n",
              "    .dataframe thead th {\n",
              "        text-align: right;\n",
              "    }\n",
              "</style>\n",
              "<table border=\"1\" class=\"dataframe\">\n",
              "  <thead>\n",
              "    <tr style=\"text-align: right;\">\n",
              "      <th></th>\n",
              "      <th>userId</th>\n",
              "      <th>itemId</th>\n",
              "      <th>predictions</th>\n",
              "    </tr>\n",
              "  </thead>\n",
              "  <tbody>\n",
              "    <tr>\n",
              "      <th>0</th>\n",
              "      <td>1</td>\n",
              "      <td>242249</td>\n",
              "      <td>-4.088578</td>\n",
              "    </tr>\n",
              "    <tr>\n",
              "      <th>1</th>\n",
              "      <td>1</td>\n",
              "      <td>117266</td>\n",
              "      <td>-4.107257</td>\n",
              "    </tr>\n",
              "    <tr>\n",
              "      <th>2</th>\n",
              "      <td>1</td>\n",
              "      <td>123441</td>\n",
              "      <td>-3.998820</td>\n",
              "    </tr>\n",
              "    <tr>\n",
              "      <th>3</th>\n",
              "      <td>1</td>\n",
              "      <td>148575</td>\n",
              "      <td>0.206054</td>\n",
              "    </tr>\n",
              "    <tr>\n",
              "      <th>4</th>\n",
              "      <td>1</td>\n",
              "      <td>155695</td>\n",
              "      <td>-1.121981</td>\n",
              "    </tr>\n",
              "    <tr>\n",
              "      <th>...</th>\n",
              "      <td>...</td>\n",
              "      <td>...</td>\n",
              "      <td>...</td>\n",
              "    </tr>\n",
              "    <tr>\n",
              "      <th>3018181</th>\n",
              "      <td>42975</td>\n",
              "      <td>4202</td>\n",
              "      <td>-3.747172</td>\n",
              "    </tr>\n",
              "    <tr>\n",
              "      <th>3018182</th>\n",
              "      <td>42975</td>\n",
              "      <td>111136</td>\n",
              "      <td>-1.727304</td>\n",
              "    </tr>\n",
              "    <tr>\n",
              "      <th>3018183</th>\n",
              "      <td>42975</td>\n",
              "      <td>195676</td>\n",
              "      <td>0.132611</td>\n",
              "    </tr>\n",
              "    <tr>\n",
              "      <th>3018184</th>\n",
              "      <td>42975</td>\n",
              "      <td>292604</td>\n",
              "      <td>0.516455</td>\n",
              "    </tr>\n",
              "    <tr>\n",
              "      <th>3018185</th>\n",
              "      <td>42975</td>\n",
              "      <td>303873</td>\n",
              "      <td>-0.120482</td>\n",
              "    </tr>\n",
              "  </tbody>\n",
              "</table>\n",
              "<p>3018186 rows × 3 columns</p>\n",
              "</div>"
            ],
            "text/plain": [
              "         userId  itemId  predictions\n",
              "0             1  242249    -4.088578\n",
              "1             1  117266    -4.107257\n",
              "2             1  123441    -3.998820\n",
              "3             1  148575     0.206054\n",
              "4             1  155695    -1.121981\n",
              "...         ...     ...          ...\n",
              "3018181   42975    4202    -3.747172\n",
              "3018182   42975  111136    -1.727304\n",
              "3018183   42975  195676     0.132611\n",
              "3018184   42975  292604     0.516455\n",
              "3018185   42975  303873    -0.120482\n",
              "\n",
              "[3018186 rows x 3 columns]"
            ]
          },
          "metadata": {
            "tags": []
          },
          "execution_count": 27
        }
      ]
    },
    {
      "cell_type": "code",
      "metadata": {
        "id": "GGMMBa9ZXJmi",
        "colab": {
          "base_uri": "https://localhost:8080/",
          "height": 407
        },
        "outputId": "b6417b0a-a7ab-4f9c-c521-bbf5b3c02d0f"
      },
      "source": [
        "random_sorted = random_benchmark.sort_values(['userId', 'predictions'], ascending=False)\n",
        "random_sorted"
      ],
      "execution_count": null,
      "outputs": [
        {
          "output_type": "execute_result",
          "data": {
            "text/html": [
              "<div>\n",
              "<style scoped>\n",
              "    .dataframe tbody tr th:only-of-type {\n",
              "        vertical-align: middle;\n",
              "    }\n",
              "\n",
              "    .dataframe tbody tr th {\n",
              "        vertical-align: top;\n",
              "    }\n",
              "\n",
              "    .dataframe thead th {\n",
              "        text-align: right;\n",
              "    }\n",
              "</style>\n",
              "<table border=\"1\" class=\"dataframe\">\n",
              "  <thead>\n",
              "    <tr style=\"text-align: right;\">\n",
              "      <th></th>\n",
              "      <th>userId</th>\n",
              "      <th>itemId</th>\n",
              "      <th>predictions</th>\n",
              "    </tr>\n",
              "  </thead>\n",
              "  <tbody>\n",
              "    <tr>\n",
              "      <th>3018026</th>\n",
              "      <td>42975</td>\n",
              "      <td>287643</td>\n",
              "      <td>3.643700</td>\n",
              "    </tr>\n",
              "    <tr>\n",
              "      <th>3018169</th>\n",
              "      <td>42975</td>\n",
              "      <td>7145</td>\n",
              "      <td>3.337272</td>\n",
              "    </tr>\n",
              "    <tr>\n",
              "      <th>3018008</th>\n",
              "      <td>42975</td>\n",
              "      <td>73069</td>\n",
              "      <td>3.303562</td>\n",
              "    </tr>\n",
              "    <tr>\n",
              "      <th>3018043</th>\n",
              "      <td>42975</td>\n",
              "      <td>222716</td>\n",
              "      <td>3.132034</td>\n",
              "    </tr>\n",
              "    <tr>\n",
              "      <th>3018067</th>\n",
              "      <td>42975</td>\n",
              "      <td>83665</td>\n",
              "      <td>2.810667</td>\n",
              "    </tr>\n",
              "    <tr>\n",
              "      <th>...</th>\n",
              "      <td>...</td>\n",
              "      <td>...</td>\n",
              "      <td>...</td>\n",
              "    </tr>\n",
              "    <tr>\n",
              "      <th>16</th>\n",
              "      <td>1</td>\n",
              "      <td>262104</td>\n",
              "      <td>-6.932975</td>\n",
              "    </tr>\n",
              "    <tr>\n",
              "      <th>318</th>\n",
              "      <td>1</td>\n",
              "      <td>16074</td>\n",
              "      <td>-6.965143</td>\n",
              "    </tr>\n",
              "    <tr>\n",
              "      <th>431</th>\n",
              "      <td>1</td>\n",
              "      <td>286918</td>\n",
              "      <td>-7.430414</td>\n",
              "    </tr>\n",
              "    <tr>\n",
              "      <th>385</th>\n",
              "      <td>1</td>\n",
              "      <td>132508</td>\n",
              "      <td>-7.684065</td>\n",
              "    </tr>\n",
              "    <tr>\n",
              "      <th>406</th>\n",
              "      <td>1</td>\n",
              "      <td>74233</td>\n",
              "      <td>-7.730343</td>\n",
              "    </tr>\n",
              "  </tbody>\n",
              "</table>\n",
              "<p>3018186 rows × 3 columns</p>\n",
              "</div>"
            ],
            "text/plain": [
              "         userId  itemId  predictions\n",
              "3018026   42975  287643     3.643700\n",
              "3018169   42975    7145     3.337272\n",
              "3018008   42975   73069     3.303562\n",
              "3018043   42975  222716     3.132034\n",
              "3018067   42975   83665     2.810667\n",
              "...         ...     ...          ...\n",
              "16            1  262104    -6.932975\n",
              "318           1   16074    -6.965143\n",
              "431           1  286918    -7.430414\n",
              "385           1  132508    -7.684065\n",
              "406           1   74233    -7.730343\n",
              "\n",
              "[3018186 rows x 3 columns]"
            ]
          },
          "metadata": {
            "tags": []
          },
          "execution_count": 28
        }
      ]
    },
    {
      "cell_type": "code",
      "metadata": {
        "id": "1EFxikvkAYId",
        "colab": {
          "base_uri": "https://localhost:8080/",
          "height": 407
        },
        "outputId": "b9baf9de-3633-4426-ee25-a3a9b306d103"
      },
      "source": [
        "del random_sorted['predictions']\n",
        "random_sorted"
      ],
      "execution_count": null,
      "outputs": [
        {
          "output_type": "execute_result",
          "data": {
            "text/html": [
              "<div>\n",
              "<style scoped>\n",
              "    .dataframe tbody tr th:only-of-type {\n",
              "        vertical-align: middle;\n",
              "    }\n",
              "\n",
              "    .dataframe tbody tr th {\n",
              "        vertical-align: top;\n",
              "    }\n",
              "\n",
              "    .dataframe thead th {\n",
              "        text-align: right;\n",
              "    }\n",
              "</style>\n",
              "<table border=\"1\" class=\"dataframe\">\n",
              "  <thead>\n",
              "    <tr style=\"text-align: right;\">\n",
              "      <th></th>\n",
              "      <th>userId</th>\n",
              "      <th>itemId</th>\n",
              "    </tr>\n",
              "  </thead>\n",
              "  <tbody>\n",
              "    <tr>\n",
              "      <th>3018026</th>\n",
              "      <td>42975</td>\n",
              "      <td>287643</td>\n",
              "    </tr>\n",
              "    <tr>\n",
              "      <th>3018169</th>\n",
              "      <td>42975</td>\n",
              "      <td>7145</td>\n",
              "    </tr>\n",
              "    <tr>\n",
              "      <th>3018008</th>\n",
              "      <td>42975</td>\n",
              "      <td>73069</td>\n",
              "    </tr>\n",
              "    <tr>\n",
              "      <th>3018043</th>\n",
              "      <td>42975</td>\n",
              "      <td>222716</td>\n",
              "    </tr>\n",
              "    <tr>\n",
              "      <th>3018067</th>\n",
              "      <td>42975</td>\n",
              "      <td>83665</td>\n",
              "    </tr>\n",
              "    <tr>\n",
              "      <th>...</th>\n",
              "      <td>...</td>\n",
              "      <td>...</td>\n",
              "    </tr>\n",
              "    <tr>\n",
              "      <th>16</th>\n",
              "      <td>1</td>\n",
              "      <td>262104</td>\n",
              "    </tr>\n",
              "    <tr>\n",
              "      <th>318</th>\n",
              "      <td>1</td>\n",
              "      <td>16074</td>\n",
              "    </tr>\n",
              "    <tr>\n",
              "      <th>431</th>\n",
              "      <td>1</td>\n",
              "      <td>286918</td>\n",
              "    </tr>\n",
              "    <tr>\n",
              "      <th>385</th>\n",
              "      <td>1</td>\n",
              "      <td>132508</td>\n",
              "    </tr>\n",
              "    <tr>\n",
              "      <th>406</th>\n",
              "      <td>1</td>\n",
              "      <td>74233</td>\n",
              "    </tr>\n",
              "  </tbody>\n",
              "</table>\n",
              "<p>3018186 rows × 2 columns</p>\n",
              "</div>"
            ],
            "text/plain": [
              "         userId  itemId\n",
              "3018026   42975  287643\n",
              "3018169   42975    7145\n",
              "3018008   42975   73069\n",
              "3018043   42975  222716\n",
              "3018067   42975   83665\n",
              "...         ...     ...\n",
              "16            1  262104\n",
              "318           1   16074\n",
              "431           1  286918\n",
              "385           1  132508\n",
              "406           1   74233\n",
              "\n",
              "[3018186 rows x 2 columns]"
            ]
          },
          "metadata": {
            "tags": []
          },
          "execution_count": 29
        }
      ]
    },
    {
      "cell_type": "code",
      "metadata": {
        "id": "ugHjsT93slM7"
      },
      "source": [
        "random_sorted.to_csv(\"submission_final.csv\", index=False)"
      ],
      "execution_count": null,
      "outputs": []
    }
  ]
}